{
 "cells": [
  {
   "cell_type": "markdown",
   "id": "b82a3455-619e-409a-8958-bfe690f875ec",
   "metadata": {},
   "source": [
    "## Title Suggestion:\n",
    "## 💡 *\"Proactive Fraud Detection in Financial Transactions using Machine Learning\"*\n"
   ]
  },
  {
   "cell_type": "code",
   "execution_count": 9,
   "id": "97efc824-3881-4c7f-8df5-09c739b06e86",
   "metadata": {},
   "outputs": [],
   "source": [
    "# Cell 1 — Imports & config\n",
    "import os\n",
    "import gc\n",
    "import numpy as np\n",
    "import pandas as pd\n",
    "import matplotlib.pyplot as plt\n",
    "import seaborn as sns\n",
    "from sklearn.model_selection import train_test_split, StratifiedKFold, cross_val_score\n",
    "from sklearn.metrics import roc_auc_score, precision_recall_curve, auc, f1_score, precision_score, recall_score, confusion_matrix\n",
    "from sklearn.preprocessing import LabelEncoder, StandardScaler\n",
    "from sklearn.impute import SimpleImputer\n",
    "from sklearn.linear_model import LogisticRegression\n",
    "from sklearn.feature_selection import mutual_info_classif\n",
    "import lightgbm as lgb\n",
    "import shap\n",
    "import joblib\n",
    "import warnings\n",
    "warnings.filterwarnings('ignore')\n",
    "\n",
    "RND = 42\n",
    "np.random.seed(RND)\n"
   ]
  },
  {
   "cell_type": "markdown",
   "id": "9c7b838c-6c29-4126-9fd5-22bf76ac43f9",
   "metadata": {},
   "source": [
    "# Step 1: Import Libraries & Load Dataset\n",
    "\n",
    "In this step, we import the required Python libraries and load the fraud dataset (`Fraud.csv`).  \n",
    "We also optimize memory usage by downcasting numerical columns and converting categorical variables.  \n",
    "\n",
    "- Dataset Size: ~470 MB  \n",
    "- Number of Rows: 6,362,620  \n",
    "- Number of Columns: 11  \n",
    "\n",
    "This ensures the dataset can be processed efficiently in the following steps.\n"
   ]
  },
  {
   "cell_type": "code",
   "execution_count": 12,
   "id": "250eac18-6973-4489-afbc-94f39b60960e",
   "metadata": {},
   "outputs": [],
   "source": [
    "# Cell 2 — Memory-aware loading (Windows path set)\n",
    "\n",
    "DATA_PATH = r\"C:\\Users\\Chethan Vakiti\\Downloads\\Fraud.csv\"  # <- already set to your path\n",
    "\n",
    "def human_readable_size(bytesize):\n",
    "    for unit in ['B','KB','MB','GB','TB']:\n",
    "        if bytesize < 1024:\n",
    "            return f\"{bytesize:.2f} {unit}\"\n",
    "        bytesize /= 1024\n",
    "    return f\"{bytesize:.2f} PB\""
   ]
  },
  {
   "cell_type": "code",
   "execution_count": 14,
   "id": "863aae36-a3fd-454c-ab24-1f217e20bf1f",
   "metadata": {},
   "outputs": [
    {
     "name": "stdout",
     "output_type": "stream",
     "text": [
      "CSV file exists. Size: 470.67 MB\n"
     ]
    }
   ],
   "source": [
    "# Print file size\n",
    "if os.path.exists(DATA_PATH):\n",
    "    fsize = os.path.getsize(DATA_PATH)\n",
    "    print(\"CSV file exists. Size:\", human_readable_size(fsize))\n",
    "else:\n",
    "    raise FileNotFoundError(f\"DATA_PATH does not exist: {DATA_PATH}\")"
   ]
  },
  {
   "cell_type": "code",
   "execution_count": 16,
   "id": "d945f449-eec4-4a29-b7e2-749b1c5c7b07",
   "metadata": {},
   "outputs": [],
   "source": [
    "def reduce_mem_usage(df, verbose=True):\n",
    "    \"\"\"Downcast numeric types and convert low-cardinality objects to category to save memory.\"\"\"\n",
    "    start_mem = df.memory_usage(deep=True).sum() / 1024**2\n",
    "    for col in df.columns:\n",
    "        col_type = df[col].dtype\n",
    "\n",
    "        if pd.api.types.is_numeric_dtype(col_type):\n",
    "            if pd.api.types.is_integer_dtype(col_type):\n",
    "                c_min = df[col].min()\n",
    "                c_max = df[col].max()\n",
    "                if c_min >= np.iinfo(np.int8).min and c_max <= np.iinfo(np.int8).max:\n",
    "                    df[col] = df[col].astype(np.int8)\n",
    "                elif c_min >= np.iinfo(np.int16).min and c_max <= np.iinfo(np.int16).max:\n",
    "                    df[col] = df[col].astype(np.int16)\n",
    "                elif c_min >= np.iinfo(np.int32).min and c_max <= np.iinfo(np.int32).max:\n",
    "                    df[col] = df[col].astype(np.int32)\n",
    "                else:\n",
    "                    df[col] = df[col].astype(np.int64)\n",
    "            else:\n",
    "                # float\n",
    "                df[col] = pd.to_numeric(df[col], downcast='float')\n",
    "        else:\n",
    "            # object-like: convert to category when it helps (low to medium cardinality)\n",
    "            if pd.api.types.is_object_dtype(col_type) or pd.api.types.is_string_dtype(col_type):\n",
    "                nunique = df[col].nunique(dropna=False)\n",
    "                # if unique values less than 50% of rows, convert to category\n",
    "                if nunique / max(1, len(df)) < 0.5:\n",
    "                    try:\n",
    "                        df[col] = df[col].astype('category')\n",
    "                    except Exception:\n",
    "                        pass\n",
    "    end_mem = df.memory_usage(deep=True).sum() / 1024**2\n",
    "    if verbose:\n",
    "        print(f\"Memory usage decreased: {start_mem:.2f} MB -> {end_mem:.2f} MB ({100*(start_mem-end_mem)/start_mem:.1f}% reduction)\")\n",
    "    return df"
   ]
  },
  {
   "cell_type": "code",
   "execution_count": 18,
   "id": "29a40e90-c9e9-4ede-a73c-955212a14b16",
   "metadata": {},
   "outputs": [
    {
     "name": "stdout",
     "output_type": "stream",
     "text": [
      "Attempting full load (this may take a minute)...\n",
      "Full load successful. Shape: (6362620, 11)\n",
      "Memory usage decreased: 1452.57 MB -> 877.19 MB (39.6% reduction)\n"
     ]
    }
   ],
   "source": [
    "# Try full load first (ok for ~420MB if you have ~8-16GB RAM)\n",
    "try:\n",
    "    print(\"Attempting full load (this may take a minute)...\")\n",
    "    df = pd.read_csv(DATA_PATH, low_memory=False)\n",
    "    print(\"Full load successful. Shape:\", df.shape)\n",
    "    df = reduce_mem_usage(df)\n",
    "except Exception as e:\n",
    "    print(\"Full load failed or ran out of memory. Falling back to chunked sampling. Error:\", repr(e))\n",
    "    # Fallback: read in chunks and sample a small fraction from each chunk for prototyping\n",
    "    chunks = []\n",
    "    chunksize = 500000  # adjust if needed\n",
    "    sample_frac = 0.05   # 5% sample of each chunk; change if you want larger/smaller sample\n",
    "    it = pd.read_csv(DATA_PATH, chunksize=chunksize)\n",
    "    total_rows = 0\n",
    "    for i, chunk in enumerate(it):\n",
    "        total_rows += len(chunk)\n",
    "        # sample a fraction from the chunk for prototyping\n",
    "        sampled = chunk.sample(frac=sample_frac, random_state=RND)\n",
    "        chunks.append(sampled)\n",
    "        print(f\"Chunk {i} read (rows in chunk: {len(chunk)}). Sampled {len(sampled)} rows.\")\n",
    "    df = pd.concat(chunks, ignore_index=True)\n",
    "    print(\"Concatenated sampled dataframe shape:\", df.shape)\n",
    "    df = reduce_mem_usage(df)"
   ]
  },
  {
   "cell_type": "code",
   "execution_count": 20,
   "id": "a3ccbdc1-ddf7-4d0c-88d2-cae87fb034e7",
   "metadata": {},
   "outputs": [
    {
     "name": "stdout",
     "output_type": "stream",
     "text": [
      "\n",
      "Preview (first 5 rows):\n"
     ]
    },
    {
     "data": {
      "text/html": [
       "<div>\n",
       "<style scoped>\n",
       "    .dataframe tbody tr th:only-of-type {\n",
       "        vertical-align: middle;\n",
       "    }\n",
       "\n",
       "    .dataframe tbody tr th {\n",
       "        vertical-align: top;\n",
       "    }\n",
       "\n",
       "    .dataframe thead th {\n",
       "        text-align: right;\n",
       "    }\n",
       "</style>\n",
       "<table border=\"1\" class=\"dataframe\">\n",
       "  <thead>\n",
       "    <tr style=\"text-align: right;\">\n",
       "      <th></th>\n",
       "      <th>step</th>\n",
       "      <th>type</th>\n",
       "      <th>amount</th>\n",
       "      <th>nameOrig</th>\n",
       "      <th>oldbalanceOrg</th>\n",
       "      <th>newbalanceOrig</th>\n",
       "      <th>nameDest</th>\n",
       "      <th>oldbalanceDest</th>\n",
       "      <th>newbalanceDest</th>\n",
       "      <th>isFraud</th>\n",
       "      <th>isFlaggedFraud</th>\n",
       "    </tr>\n",
       "  </thead>\n",
       "  <tbody>\n",
       "    <tr>\n",
       "      <th>0</th>\n",
       "      <td>1</td>\n",
       "      <td>PAYMENT</td>\n",
       "      <td>9839.64</td>\n",
       "      <td>C1231006815</td>\n",
       "      <td>170136.0</td>\n",
       "      <td>160296.36</td>\n",
       "      <td>M1979787155</td>\n",
       "      <td>0.0</td>\n",
       "      <td>0.0</td>\n",
       "      <td>0</td>\n",
       "      <td>0</td>\n",
       "    </tr>\n",
       "    <tr>\n",
       "      <th>1</th>\n",
       "      <td>1</td>\n",
       "      <td>PAYMENT</td>\n",
       "      <td>1864.28</td>\n",
       "      <td>C1666544295</td>\n",
       "      <td>21249.0</td>\n",
       "      <td>19384.72</td>\n",
       "      <td>M2044282225</td>\n",
       "      <td>0.0</td>\n",
       "      <td>0.0</td>\n",
       "      <td>0</td>\n",
       "      <td>0</td>\n",
       "    </tr>\n",
       "    <tr>\n",
       "      <th>2</th>\n",
       "      <td>1</td>\n",
       "      <td>TRANSFER</td>\n",
       "      <td>181.00</td>\n",
       "      <td>C1305486145</td>\n",
       "      <td>181.0</td>\n",
       "      <td>0.00</td>\n",
       "      <td>C553264065</td>\n",
       "      <td>0.0</td>\n",
       "      <td>0.0</td>\n",
       "      <td>1</td>\n",
       "      <td>0</td>\n",
       "    </tr>\n",
       "    <tr>\n",
       "      <th>3</th>\n",
       "      <td>1</td>\n",
       "      <td>CASH_OUT</td>\n",
       "      <td>181.00</td>\n",
       "      <td>C840083671</td>\n",
       "      <td>181.0</td>\n",
       "      <td>0.00</td>\n",
       "      <td>C38997010</td>\n",
       "      <td>21182.0</td>\n",
       "      <td>0.0</td>\n",
       "      <td>1</td>\n",
       "      <td>0</td>\n",
       "    </tr>\n",
       "    <tr>\n",
       "      <th>4</th>\n",
       "      <td>1</td>\n",
       "      <td>PAYMENT</td>\n",
       "      <td>11668.14</td>\n",
       "      <td>C2048537720</td>\n",
       "      <td>41554.0</td>\n",
       "      <td>29885.86</td>\n",
       "      <td>M1230701703</td>\n",
       "      <td>0.0</td>\n",
       "      <td>0.0</td>\n",
       "      <td>0</td>\n",
       "      <td>0</td>\n",
       "    </tr>\n",
       "  </tbody>\n",
       "</table>\n",
       "</div>"
      ],
      "text/plain": [
       "   step      type    amount     nameOrig  oldbalanceOrg  newbalanceOrig  \\\n",
       "0     1   PAYMENT   9839.64  C1231006815       170136.0       160296.36   \n",
       "1     1   PAYMENT   1864.28  C1666544295        21249.0        19384.72   \n",
       "2     1  TRANSFER    181.00  C1305486145          181.0            0.00   \n",
       "3     1  CASH_OUT    181.00   C840083671          181.0            0.00   \n",
       "4     1   PAYMENT  11668.14  C2048537720        41554.0        29885.86   \n",
       "\n",
       "      nameDest  oldbalanceDest  newbalanceDest  isFraud  isFlaggedFraud  \n",
       "0  M1979787155             0.0             0.0        0               0  \n",
       "1  M2044282225             0.0             0.0        0               0  \n",
       "2   C553264065             0.0             0.0        1               0  \n",
       "3    C38997010         21182.0             0.0        1               0  \n",
       "4  M1230701703             0.0             0.0        0               0  "
      ]
     },
     "metadata": {},
     "output_type": "display_data"
    }
   ],
   "source": [
    "# Quick preview & dtype summary\n",
    "print(\"\\nPreview (first 5 rows):\")\n",
    "display(df.head())"
   ]
  },
  {
   "cell_type": "code",
   "execution_count": 22,
   "id": "10fc09a2-49ee-4b13-b9b9-b1d6325590b0",
   "metadata": {},
   "outputs": [
    {
     "name": "stdout",
     "output_type": "stream",
     "text": [
      "\n",
      "Dataframe info (including memory usage):\n",
      "<class 'pandas.core.frame.DataFrame'>\n",
      "RangeIndex: 6362620 entries, 0 to 6362619\n",
      "Data columns (total 11 columns):\n",
      " #   Column          Dtype   \n",
      "---  ------          -----   \n",
      " 0   step            int16   \n",
      " 1   type            category\n",
      " 2   amount          float64 \n",
      " 3   nameOrig        object  \n",
      " 4   oldbalanceOrg   float64 \n",
      " 5   newbalanceOrig  float64 \n",
      " 6   nameDest        category\n",
      " 7   oldbalanceDest  float64 \n",
      " 8   newbalanceDest  float64 \n",
      " 9   isFraud         int8    \n",
      " 10  isFlaggedFraud  int8    \n",
      "dtypes: category(2), float64(5), int16(1), int8(2), object(1)\n",
      "memory usage: 877.2 MB\n"
     ]
    },
    {
     "data": {
      "text/plain": [
       "None"
      ]
     },
     "metadata": {},
     "output_type": "display_data"
    }
   ],
   "source": [
    "print(\"\\nDataframe info (including memory usage):\")\n",
    "display(df.info(memory_usage='deep'))"
   ]
  },
  {
   "cell_type": "code",
   "execution_count": 24,
   "id": "fb134f3a-327a-4ffc-839b-1322dc8734eb",
   "metadata": {},
   "outputs": [
    {
     "name": "stdout",
     "output_type": "stream",
     "text": [
      "\n",
      "Column dtypes and non-null counts:\n"
     ]
    },
    {
     "data": {
      "text/html": [
       "<div>\n",
       "<style scoped>\n",
       "    .dataframe tbody tr th:only-of-type {\n",
       "        vertical-align: middle;\n",
       "    }\n",
       "\n",
       "    .dataframe tbody tr th {\n",
       "        vertical-align: top;\n",
       "    }\n",
       "\n",
       "    .dataframe thead th {\n",
       "        text-align: right;\n",
       "    }\n",
       "</style>\n",
       "<table border=\"1\" class=\"dataframe\">\n",
       "  <thead>\n",
       "    <tr style=\"text-align: right;\">\n",
       "      <th></th>\n",
       "      <th>dtype</th>\n",
       "      <th>non-null</th>\n",
       "    </tr>\n",
       "  </thead>\n",
       "  <tbody>\n",
       "    <tr>\n",
       "      <th>step</th>\n",
       "      <td>int16</td>\n",
       "      <td>6362620</td>\n",
       "    </tr>\n",
       "    <tr>\n",
       "      <th>type</th>\n",
       "      <td>category</td>\n",
       "      <td>6362620</td>\n",
       "    </tr>\n",
       "    <tr>\n",
       "      <th>amount</th>\n",
       "      <td>float64</td>\n",
       "      <td>6362620</td>\n",
       "    </tr>\n",
       "    <tr>\n",
       "      <th>nameOrig</th>\n",
       "      <td>object</td>\n",
       "      <td>6362620</td>\n",
       "    </tr>\n",
       "    <tr>\n",
       "      <th>oldbalanceOrg</th>\n",
       "      <td>float64</td>\n",
       "      <td>6362620</td>\n",
       "    </tr>\n",
       "    <tr>\n",
       "      <th>newbalanceOrig</th>\n",
       "      <td>float64</td>\n",
       "      <td>6362620</td>\n",
       "    </tr>\n",
       "    <tr>\n",
       "      <th>nameDest</th>\n",
       "      <td>category</td>\n",
       "      <td>6362620</td>\n",
       "    </tr>\n",
       "    <tr>\n",
       "      <th>oldbalanceDest</th>\n",
       "      <td>float64</td>\n",
       "      <td>6362620</td>\n",
       "    </tr>\n",
       "    <tr>\n",
       "      <th>newbalanceDest</th>\n",
       "      <td>float64</td>\n",
       "      <td>6362620</td>\n",
       "    </tr>\n",
       "    <tr>\n",
       "      <th>isFraud</th>\n",
       "      <td>int8</td>\n",
       "      <td>6362620</td>\n",
       "    </tr>\n",
       "    <tr>\n",
       "      <th>isFlaggedFraud</th>\n",
       "      <td>int8</td>\n",
       "      <td>6362620</td>\n",
       "    </tr>\n",
       "  </tbody>\n",
       "</table>\n",
       "</div>"
      ],
      "text/plain": [
       "                   dtype  non-null\n",
       "step               int16   6362620\n",
       "type            category   6362620\n",
       "amount           float64   6362620\n",
       "nameOrig          object   6362620\n",
       "oldbalanceOrg    float64   6362620\n",
       "newbalanceOrig   float64   6362620\n",
       "nameDest        category   6362620\n",
       "oldbalanceDest   float64   6362620\n",
       "newbalanceDest   float64   6362620\n",
       "isFraud             int8   6362620\n",
       "isFlaggedFraud      int8   6362620"
      ]
     },
     "metadata": {},
     "output_type": "display_data"
    }
   ],
   "source": [
    "print(\"\\nColumn dtypes and non-null counts:\")\n",
    "display(pd.DataFrame({'dtype': df.dtypes, 'non-null': df.notnull().sum()}))"
   ]
  },
  {
   "cell_type": "code",
   "execution_count": 28,
   "id": "12f97540-2f4e-464b-92a5-8474a436cc2e",
   "metadata": {},
   "outputs": [
    {
     "name": "stdout",
     "output_type": "stream",
     "text": [
      "\n",
      "Transaction type distribution:\n"
     ]
    },
    {
     "data": {
      "text/plain": [
       "type\n",
       "CASH_OUT    2237500\n",
       "PAYMENT     2151495\n",
       "CASH_IN     1399284\n",
       "TRANSFER     532909\n",
       "DEBIT         41432\n",
       "Name: count, dtype: int64"
      ]
     },
     "metadata": {},
     "output_type": "display_data"
    }
   ],
   "source": [
    "# Show basic value counts for the 'type' and target columns if present (useful for EDA next)\n",
    "if 'type' in df.columns:\n",
    "    print(\"\\nTransaction type distribution:\")\n",
    "    display(df['type'].value_counts(dropna=False))"
   ]
  },
  {
   "cell_type": "code",
   "execution_count": 30,
   "id": "2b3c483f-9e07-4b9a-87ed-c0f80ded5a40",
   "metadata": {},
   "outputs": [
    {
     "name": "stdout",
     "output_type": "stream",
     "text": [
      "\n",
      "isFraud distribution (counts and %):\n"
     ]
    },
    {
     "data": {
      "text/html": [
       "<div>\n",
       "<style scoped>\n",
       "    .dataframe tbody tr th:only-of-type {\n",
       "        vertical-align: middle;\n",
       "    }\n",
       "\n",
       "    .dataframe tbody tr th {\n",
       "        vertical-align: top;\n",
       "    }\n",
       "\n",
       "    .dataframe thead th {\n",
       "        text-align: right;\n",
       "    }\n",
       "</style>\n",
       "<table border=\"1\" class=\"dataframe\">\n",
       "  <thead>\n",
       "    <tr style=\"text-align: right;\">\n",
       "      <th></th>\n",
       "      <th>count</th>\n",
       "      <th>percent</th>\n",
       "    </tr>\n",
       "    <tr>\n",
       "      <th>isFraud</th>\n",
       "      <th></th>\n",
       "      <th></th>\n",
       "    </tr>\n",
       "  </thead>\n",
       "  <tbody>\n",
       "    <tr>\n",
       "      <th>0</th>\n",
       "      <td>6354407</td>\n",
       "      <td>99.870918</td>\n",
       "    </tr>\n",
       "    <tr>\n",
       "      <th>1</th>\n",
       "      <td>8213</td>\n",
       "      <td>0.129082</td>\n",
       "    </tr>\n",
       "  </tbody>\n",
       "</table>\n",
       "</div>"
      ],
      "text/plain": [
       "           count    percent\n",
       "isFraud                    \n",
       "0        6354407  99.870918\n",
       "1           8213   0.129082"
      ]
     },
     "metadata": {},
     "output_type": "display_data"
    }
   ],
   "source": [
    "if 'isFraud' in df.columns:\n",
    "    print(\"\\nisFraud distribution (counts and %):\")\n",
    "    vc = df['isFraud'].value_counts(dropna=False)\n",
    "    display(pd.DataFrame({'count': vc, 'percent': vc / len(df) * 100}))"
   ]
  },
  {
   "cell_type": "code",
   "execution_count": 32,
   "id": "b96cf559-5170-4523-98cf-a6fbfdcb036a",
   "metadata": {},
   "outputs": [
    {
     "data": {
      "text/plain": [
       "175"
      ]
     },
     "execution_count": 32,
     "metadata": {},
     "output_type": "execute_result"
    }
   ],
   "source": [
    "# free up memory if needed\n",
    "gc.collect()"
   ]
  },
  {
   "cell_type": "markdown",
   "id": "e82b69ed-cd24-4014-8dd1-caab339398e1",
   "metadata": {},
   "source": [
    "# Step 2: Exploratory Data Analysis (EDA)\n",
    "\n",
    "We explore the dataset to understand its structure:  \n",
    "- **No missing values** across all columns.  \n",
    "- **Transaction types**: `CASH_OUT`, `PAYMENT`, `CASH_IN`, `TRANSFER`, `DEBIT`.  \n",
    "- **Fraud Rate**: Only 0.13% of transactions are labeled as fraud (`isFraud = 1`).  \n",
    "- **Flagged Fraud** (`isFlaggedFraud`) is very rare (16 cases total).  \n",
    "\n",
    "Initial insights: Fraud is extremely **imbalanced**, which means we need imbalance-aware models.\n"
   ]
  },
  {
   "cell_type": "code",
   "execution_count": null,
   "id": "f5068693-d906-4e7f-8835-429b32cfb3b0",
   "metadata": {},
   "outputs": [],
   "source": [
    "# Cell 3 — EDA + quick feature engineering (run this now)"
   ]
  },
  {
   "cell_type": "code",
   "execution_count": 37,
   "id": "c27d1879-e391-4e66-808d-9df7f0d274f4",
   "metadata": {},
   "outputs": [
    {
     "name": "stdout",
     "output_type": "stream",
     "text": [
      "Shape: (6362620, 11)\n",
      "\n",
      "Nulls per column:\n"
     ]
    },
    {
     "data": {
      "text/plain": [
       "step              0\n",
       "type              0\n",
       "amount            0\n",
       "nameOrig          0\n",
       "oldbalanceOrg     0\n",
       "newbalanceOrig    0\n",
       "nameDest          0\n",
       "oldbalanceDest    0\n",
       "newbalanceDest    0\n",
       "isFraud           0\n",
       "isFlaggedFraud    0\n",
       "dtype: int64"
      ]
     },
     "metadata": {},
     "output_type": "display_data"
    }
   ],
   "source": [
    "print(\"Shape:\", df.shape)\n",
    "print(\"\\nNulls per column:\")\n",
    "display(df.isnull().sum())"
   ]
  },
  {
   "cell_type": "code",
   "execution_count": 39,
   "id": "23ab392c-c2b9-4d92-85ec-01eff80e67e5",
   "metadata": {},
   "outputs": [
    {
     "name": "stdout",
     "output_type": "stream",
     "text": [
      "Unique origin accounts (nameOrig): 6,353,307\n",
      "Unique dest accounts (nameDest): 2,722,362\n"
     ]
    }
   ],
   "source": [
    "# Unique counts for accounts\n",
    "n_orig = df['nameOrig'].nunique()\n",
    "n_dest = df['nameDest'].nunique()\n",
    "print(f\"Unique origin accounts (nameOrig): {n_orig:,}\")\n",
    "print(f\"Unique dest accounts (nameDest): {n_dest:,}\")"
   ]
  },
  {
   "cell_type": "code",
   "execution_count": 41,
   "id": "f44ef0be-cfb5-482d-9fa7-e210e61291bc",
   "metadata": {},
   "outputs": [
    {
     "name": "stdout",
     "output_type": "stream",
     "text": [
      "Number of transactions with merchant as destination: 2151495\n"
     ]
    }
   ],
   "source": [
    "# Flag merchant recipients (nameDest starting with 'M')\n",
    "df['dest_is_merchant'] = df['nameDest'].astype(str).str.startswith('M').astype('int8')\n",
    "print(\"Number of transactions with merchant as destination:\", int(df['dest_is_merchant'].sum()))"
   ]
  },
  {
   "cell_type": "code",
   "execution_count": 43,
   "id": "e4e07674-371e-48f7-97a2-08e6765bb385",
   "metadata": {},
   "outputs": [
    {
     "name": "stdout",
     "output_type": "stream",
     "text": [
      "\n",
      "Transaction type counts:\n"
     ]
    },
    {
     "data": {
      "text/plain": [
       "type\n",
       "CASH_OUT    2237500\n",
       "PAYMENT     2151495\n",
       "CASH_IN     1399284\n",
       "TRANSFER     532909\n",
       "DEBIT         41432\n",
       "Name: count, dtype: int64"
      ]
     },
     "metadata": {},
     "output_type": "display_data"
    }
   ],
   "source": [
    "# Transaction type & flagged fraud summary\n",
    "print(\"\\nTransaction type counts:\")\n",
    "display(df['type'].value_counts())"
   ]
  },
  {
   "cell_type": "code",
   "execution_count": 45,
   "id": "89049e76-874a-44b1-8d42-893299596d7c",
   "metadata": {},
   "outputs": [
    {
     "name": "stdout",
     "output_type": "stream",
     "text": [
      "\n",
      "isFlaggedFraud counts (0/1):\n"
     ]
    },
    {
     "data": {
      "text/plain": [
       "isFlaggedFraud\n",
       "0    6362604\n",
       "1         16\n",
       "Name: count, dtype: int64"
      ]
     },
     "metadata": {},
     "output_type": "display_data"
    }
   ],
   "source": [
    "print(\"\\nisFlaggedFraud counts (0/1):\")\n",
    "display(df['isFlaggedFraud'].value_counts())"
   ]
  },
  {
   "cell_type": "code",
   "execution_count": 47,
   "id": "c895c9e2-8e9e-4b13-adc1-741f7be99b71",
   "metadata": {},
   "outputs": [
    {
     "data": {
      "text/html": [
       "<div>\n",
       "<style scoped>\n",
       "    .dataframe tbody tr th:only-of-type {\n",
       "        vertical-align: middle;\n",
       "    }\n",
       "\n",
       "    .dataframe tbody tr th {\n",
       "        vertical-align: top;\n",
       "    }\n",
       "\n",
       "    .dataframe thead th {\n",
       "        text-align: right;\n",
       "    }\n",
       "</style>\n",
       "<table border=\"1\" class=\"dataframe\">\n",
       "  <thead>\n",
       "    <tr style=\"text-align: right;\">\n",
       "      <th></th>\n",
       "      <th>sum</th>\n",
       "      <th>count</th>\n",
       "      <th>fraud_rate_pct</th>\n",
       "    </tr>\n",
       "    <tr>\n",
       "      <th>type</th>\n",
       "      <th></th>\n",
       "      <th></th>\n",
       "      <th></th>\n",
       "    </tr>\n",
       "  </thead>\n",
       "  <tbody>\n",
       "    <tr>\n",
       "      <th>CASH_OUT</th>\n",
       "      <td>4116</td>\n",
       "      <td>2237500</td>\n",
       "      <td>0.183955</td>\n",
       "    </tr>\n",
       "    <tr>\n",
       "      <th>TRANSFER</th>\n",
       "      <td>4097</td>\n",
       "      <td>532909</td>\n",
       "      <td>0.768799</td>\n",
       "    </tr>\n",
       "    <tr>\n",
       "      <th>CASH_IN</th>\n",
       "      <td>0</td>\n",
       "      <td>1399284</td>\n",
       "      <td>0.000000</td>\n",
       "    </tr>\n",
       "    <tr>\n",
       "      <th>DEBIT</th>\n",
       "      <td>0</td>\n",
       "      <td>41432</td>\n",
       "      <td>0.000000</td>\n",
       "    </tr>\n",
       "    <tr>\n",
       "      <th>PAYMENT</th>\n",
       "      <td>0</td>\n",
       "      <td>2151495</td>\n",
       "      <td>0.000000</td>\n",
       "    </tr>\n",
       "  </tbody>\n",
       "</table>\n",
       "</div>"
      ],
      "text/plain": [
       "           sum    count  fraud_rate_pct\n",
       "type                                   \n",
       "CASH_OUT  4116  2237500        0.183955\n",
       "TRANSFER  4097   532909        0.768799\n",
       "CASH_IN      0  1399284        0.000000\n",
       "DEBIT        0    41432        0.000000\n",
       "PAYMENT      0  2151495        0.000000"
      ]
     },
     "metadata": {},
     "output_type": "display_data"
    }
   ],
   "source": [
    "# Frauds by type (counts, total transactions, and fraud rate)\n",
    "type_fraud = df.groupby('type')['isFraud'].agg(['sum','count'])\n",
    "type_fraud['fraud_rate_pct'] = 100 * type_fraud['sum'] / type_fraud['count']\n",
    "display(type_fraud.sort_values('sum', ascending=False))"
   ]
  },
  {
   "cell_type": "code",
   "execution_count": 49,
   "id": "1e2f5166-675a-4614-a94a-f5010fd55f5d",
   "metadata": {},
   "outputs": [
    {
     "name": "stdout",
     "output_type": "stream",
     "text": [
      "\n",
      "Amount summary:\n"
     ]
    },
    {
     "data": {
      "text/plain": [
       "count    6.362620e+06\n",
       "mean     1.798619e+05\n",
       "std      6.038582e+05\n",
       "min      0.000000e+00\n",
       "25%      1.338957e+04\n",
       "50%      7.487194e+04\n",
       "75%      2.087215e+05\n",
       "max      9.244552e+07\n",
       "Name: amount, dtype: float64"
      ]
     },
     "metadata": {},
     "output_type": "display_data"
    },
    {
     "data": {
      "text/plain": [
       "0.500    7.487194e+04\n",
       "0.750    2.087215e+05\n",
       "0.900    3.654233e+05\n",
       "0.950    5.186342e+05\n",
       "0.990    1.615979e+06\n",
       "0.999    8.956798e+06\n",
       "Name: amount, dtype: float64"
      ]
     },
     "metadata": {},
     "output_type": "display_data"
    }
   ],
   "source": [
    "# Amount distribution & quantiles\n",
    "print(\"\\nAmount summary:\")\n",
    "display(df['amount'].describe())\n",
    "display(df['amount'].quantile([0.5,0.75,0.9,0.95,0.99,0.999]))"
   ]
  },
  {
   "cell_type": "code",
   "execution_count": 51,
   "id": "a5b905df-6428-40d9-a38f-d04050d7f7c5",
   "metadata": {},
   "outputs": [
    {
     "data": {
      "image/png": "[encoded data removed]",
      "text/plain": [
       "<Figure size 800x400 with 1 Axes>"
      ]
     },
     "metadata": {},
     "output_type": "display_data"
    }
   ],
   "source": [
    "# Log transform for visualization & feature\n",
    "df['log_amount'] = np.log1p(df['amount'])\n",
    "\n",
    "# Plot (sample) histogram of log(amount) to visualize distribution\n",
    "sample_for_plot = df['log_amount'].sample(n=200000, random_state=42) if len(df)>200000 else df['log_amount']\n",
    "plt.figure(figsize=(8,4))\n",
    "plt.hist(sample_for_plot, bins=80)\n",
    "plt.title('Histogram: log1p(amount) (sample)')\n",
    "plt.xlabel('log1p(amount)')\n",
    "plt.show()"
   ]
  },
  {
   "cell_type": "code",
   "execution_count": 53,
   "id": "0c114143-f813-4e71-af10-f8adb361aa5d",
   "metadata": {},
   "outputs": [
    {
     "name": "stdout",
     "output_type": "stream",
     "text": [
      "\n",
      "errorBalanceOrig summary:\n"
     ]
    },
    {
     "data": {
      "text/plain": [
       "count    6.362620e+06\n",
       "mean     2.010925e+05\n",
       "std      6.066505e+05\n",
       "min     -1.000000e-02\n",
       "25%      2.954230e+03\n",
       "50%      6.867726e+04\n",
       "75%      2.496411e+05\n",
       "max      9.244552e+07\n",
       "Name: errorBalanceOrig, dtype: float64"
      ]
     },
     "metadata": {},
     "output_type": "display_data"
    },
    {
     "name": "stdout",
     "output_type": "stream",
     "text": [
      "\n",
      "errorBalanceDest summary:\n"
     ]
    },
    {
     "data": {
      "text/plain": [
       "count    6.362620e+06\n",
       "mean     5.556717e+04\n",
       "std      4.415288e+05\n",
       "min     -7.588573e+07\n",
       "25%      0.000000e+00\n",
       "50%      3.500490e+03\n",
       "75%      2.935305e+04\n",
       "max      1.319123e+07\n",
       "Name: errorBalanceDest, dtype: float64"
      ]
     },
     "metadata": {},
     "output_type": "display_data"
    }
   ],
   "source": [
    "# Error balance features commonly used in this dataset\n",
    "df['errorBalanceOrig'] = df['newbalanceOrig'] + df['amount'] - df['oldbalanceOrg']\n",
    "df['errorBalanceDest'] = df['oldbalanceDest'] + df['amount'] - df['newbalanceDest']\n",
    "\n",
    "print(\"\\nerrorBalanceOrig summary:\")\n",
    "display(df['errorBalanceOrig'].describe())\n",
    "print(\"\\nerrorBalanceDest summary:\")\n",
    "display(df['errorBalanceDest'].describe())"
   ]
  },
  {
   "cell_type": "code",
   "execution_count": 55,
   "id": "4d6aa53f-f88f-425f-81f2-df00c63caa8d",
   "metadata": {},
   "outputs": [
    {
     "name": "stdout",
     "output_type": "stream",
     "text": [
      "\n",
      "Proportion non-zero errorBalanceOrig: 0.8055725471582461\n",
      "Proportion non-zero errorBalanceDest: 0.6860261967554246\n"
     ]
    }
   ],
   "source": [
    "# What proportion have non-zero errors?\n",
    "print(\"\\nProportion non-zero errorBalanceOrig:\", (df['errorBalanceOrig'].abs() > 1e-6).mean())\n",
    "print(\"Proportion non-zero errorBalanceDest:\", (df['errorBalanceDest'].abs() > 1e-6).mean())"
   ]
  },
  {
   "cell_type": "code",
   "execution_count": 57,
   "id": "16b7e006-be4e-4cf2-b671-1d16988a56b5",
   "metadata": {},
   "outputs": [
    {
     "data": {
      "text/html": [
       "<div>\n",
       "<style scoped>\n",
       "    .dataframe tbody tr th:only-of-type {\n",
       "        vertical-align: middle;\n",
       "    }\n",
       "\n",
       "    .dataframe tbody tr th {\n",
       "        vertical-align: top;\n",
       "    }\n",
       "\n",
       "    .dataframe thead tr th {\n",
       "        text-align: left;\n",
       "    }\n",
       "\n",
       "    .dataframe thead tr:last-of-type th {\n",
       "        text-align: right;\n",
       "    }\n",
       "</style>\n",
       "<table border=\"1\" class=\"dataframe\">\n",
       "  <thead>\n",
       "    <tr>\n",
       "      <th></th>\n",
       "      <th colspan=\"3\" halign=\"left\">errorBalanceOrig</th>\n",
       "      <th colspan=\"3\" halign=\"left\">errorBalanceDest</th>\n",
       "    </tr>\n",
       "    <tr>\n",
       "      <th></th>\n",
       "      <th>count</th>\n",
       "      <th>mean</th>\n",
       "      <th>median</th>\n",
       "      <th>count</th>\n",
       "      <th>mean</th>\n",
       "      <th>median</th>\n",
       "    </tr>\n",
       "    <tr>\n",
       "      <th>isFraud</th>\n",
       "      <th></th>\n",
       "      <th></th>\n",
       "      <th></th>\n",
       "      <th></th>\n",
       "      <th></th>\n",
       "      <th></th>\n",
       "    </tr>\n",
       "  </thead>\n",
       "  <tbody>\n",
       "    <tr>\n",
       "      <th>0</th>\n",
       "      <td>6354407</td>\n",
       "      <td>201338.558109</td>\n",
       "      <td>69049.31</td>\n",
       "      <td>6354407</td>\n",
       "      <td>54692.231734</td>\n",
       "      <td>3500.68</td>\n",
       "    </tr>\n",
       "    <tr>\n",
       "      <th>1</th>\n",
       "      <td>8213</td>\n",
       "      <td>10692.325265</td>\n",
       "      <td>0.00</td>\n",
       "      <td>8213</td>\n",
       "      <td>732509.301069</td>\n",
       "      <td>2231.46</td>\n",
       "    </tr>\n",
       "  </tbody>\n",
       "</table>\n",
       "</div>"
      ],
      "text/plain": [
       "        errorBalanceOrig                          errorBalanceDest  \\\n",
       "                   count           mean    median            count   \n",
       "isFraud                                                              \n",
       "0                6354407  201338.558109  69049.31          6354407   \n",
       "1                   8213   10692.325265      0.00             8213   \n",
       "\n",
       "                                 \n",
       "                  mean   median  \n",
       "isFraud                          \n",
       "0         54692.231734  3500.68  \n",
       "1        732509.301069  2231.46  "
      ]
     },
     "metadata": {},
     "output_type": "display_data"
    }
   ],
   "source": [
    "# error balance aggregated by isFraud\n",
    "display(df.groupby('isFraud')[['errorBalanceOrig','errorBalanceDest']].agg(['count','mean','median']))"
   ]
  },
  {
   "cell_type": "code",
   "execution_count": 59,
   "id": "e59c6821-0209-4c8c-ae01-6ae0f62f8494",
   "metadata": {},
   "outputs": [
    {
     "name": "stdout",
     "output_type": "stream",
     "text": [
      "\n",
      "Types containing fraud transactions (counts):\n"
     ]
    },
    {
     "data": {
      "text/plain": [
       "type\n",
       "CASH_OUT    4116\n",
       "TRANSFER    4097\n",
       "CASH_IN        0\n",
       "DEBIT          0\n",
       "PAYMENT        0\n",
       "Name: count, dtype: int64"
      ]
     },
     "metadata": {},
     "output_type": "display_data"
    }
   ],
   "source": [
    "# Types containing frauds\n",
    "print(\"\\nTypes containing fraud transactions (counts):\")\n",
    "display(df.loc[df['isFraud']==1, 'type'].value_counts())"
   ]
  },
  {
   "cell_type": "code",
   "execution_count": 61,
   "id": "0166e115-faf8-4e44-ad69-bc3c16ea353b",
   "metadata": {},
   "outputs": [
    {
     "name": "stdout",
     "output_type": "stream",
     "text": [
      "\n",
      "Top 10 transactions by amount:\n"
     ]
    },
    {
     "data": {
      "text/html": [
       "<div>\n",
       "<style scoped>\n",
       "    .dataframe tbody tr th:only-of-type {\n",
       "        vertical-align: middle;\n",
       "    }\n",
       "\n",
       "    .dataframe tbody tr th {\n",
       "        vertical-align: top;\n",
       "    }\n",
       "\n",
       "    .dataframe thead th {\n",
       "        text-align: right;\n",
       "    }\n",
       "</style>\n",
       "<table border=\"1\" class=\"dataframe\">\n",
       "  <thead>\n",
       "    <tr style=\"text-align: right;\">\n",
       "      <th></th>\n",
       "      <th>step</th>\n",
       "      <th>type</th>\n",
       "      <th>amount</th>\n",
       "      <th>isFraud</th>\n",
       "      <th>nameOrig</th>\n",
       "      <th>nameDest</th>\n",
       "      <th>oldbalanceOrg</th>\n",
       "      <th>newbalanceOrig</th>\n",
       "      <th>oldbalanceDest</th>\n",
       "      <th>newbalanceDest</th>\n",
       "    </tr>\n",
       "  </thead>\n",
       "  <tbody>\n",
       "    <tr>\n",
       "      <th>3686583</th>\n",
       "      <td>276</td>\n",
       "      <td>TRANSFER</td>\n",
       "      <td>92445516.64</td>\n",
       "      <td>0</td>\n",
       "      <td>C1715283297</td>\n",
       "      <td>C439737079</td>\n",
       "      <td>0.0</td>\n",
       "      <td>0.0</td>\n",
       "      <td>9.595980e+03</td>\n",
       "      <td>9.245511e+07</td>\n",
       "    </tr>\n",
       "    <tr>\n",
       "      <th>4060598</th>\n",
       "      <td>300</td>\n",
       "      <td>TRANSFER</td>\n",
       "      <td>73823490.36</td>\n",
       "      <td>0</td>\n",
       "      <td>C2127282686</td>\n",
       "      <td>C753026640</td>\n",
       "      <td>0.0</td>\n",
       "      <td>0.0</td>\n",
       "      <td>9.362401e+07</td>\n",
       "      <td>1.674475e+08</td>\n",
       "    </tr>\n",
       "    <tr>\n",
       "      <th>4146397</th>\n",
       "      <td>303</td>\n",
       "      <td>TRANSFER</td>\n",
       "      <td>71172480.42</td>\n",
       "      <td>0</td>\n",
       "      <td>C2044643633</td>\n",
       "      <td>C84111522</td>\n",
       "      <td>0.0</td>\n",
       "      <td>0.0</td>\n",
       "      <td>1.134615e+08</td>\n",
       "      <td>1.846340e+08</td>\n",
       "    </tr>\n",
       "    <tr>\n",
       "      <th>3946920</th>\n",
       "      <td>286</td>\n",
       "      <td>TRANSFER</td>\n",
       "      <td>69886731.30</td>\n",
       "      <td>0</td>\n",
       "      <td>C1425667947</td>\n",
       "      <td>C167875008</td>\n",
       "      <td>0.0</td>\n",
       "      <td>0.0</td>\n",
       "      <td>1.515387e+08</td>\n",
       "      <td>2.214254e+08</td>\n",
       "    </tr>\n",
       "    <tr>\n",
       "      <th>3911956</th>\n",
       "      <td>284</td>\n",
       "      <td>TRANSFER</td>\n",
       "      <td>69337316.27</td>\n",
       "      <td>0</td>\n",
       "      <td>C1584456031</td>\n",
       "      <td>C1472140329</td>\n",
       "      <td>0.0</td>\n",
       "      <td>0.0</td>\n",
       "      <td>1.130072e+08</td>\n",
       "      <td>1.823446e+08</td>\n",
       "    </tr>\n",
       "    <tr>\n",
       "      <th>3937152</th>\n",
       "      <td>286</td>\n",
       "      <td>TRANSFER</td>\n",
       "      <td>67500761.29</td>\n",
       "      <td>0</td>\n",
       "      <td>C811810230</td>\n",
       "      <td>C1757599079</td>\n",
       "      <td>0.0</td>\n",
       "      <td>0.0</td>\n",
       "      <td>8.635615e+07</td>\n",
       "      <td>1.538569e+08</td>\n",
       "    </tr>\n",
       "    <tr>\n",
       "      <th>4105338</th>\n",
       "      <td>302</td>\n",
       "      <td>TRANSFER</td>\n",
       "      <td>66761272.21</td>\n",
       "      <td>0</td>\n",
       "      <td>C420748282</td>\n",
       "      <td>C1073241084</td>\n",
       "      <td>0.0</td>\n",
       "      <td>0.0</td>\n",
       "      <td>6.874206e+07</td>\n",
       "      <td>1.355033e+08</td>\n",
       "    </tr>\n",
       "    <tr>\n",
       "      <th>3892529</th>\n",
       "      <td>284</td>\n",
       "      <td>TRANSFER</td>\n",
       "      <td>64234448.19</td>\n",
       "      <td>0</td>\n",
       "      <td>C1139847449</td>\n",
       "      <td>C65111466</td>\n",
       "      <td>0.0</td>\n",
       "      <td>0.0</td>\n",
       "      <td>6.597691e+07</td>\n",
       "      <td>1.663021e+08</td>\n",
       "    </tr>\n",
       "    <tr>\n",
       "      <th>3991638</th>\n",
       "      <td>298</td>\n",
       "      <td>TRANSFER</td>\n",
       "      <td>63847992.58</td>\n",
       "      <td>0</td>\n",
       "      <td>C300140823</td>\n",
       "      <td>C514940761</td>\n",
       "      <td>0.0</td>\n",
       "      <td>0.0</td>\n",
       "      <td>7.217149e+07</td>\n",
       "      <td>1.360195e+08</td>\n",
       "    </tr>\n",
       "    <tr>\n",
       "      <th>4143801</th>\n",
       "      <td>303</td>\n",
       "      <td>TRANSFER</td>\n",
       "      <td>63294839.63</td>\n",
       "      <td>0</td>\n",
       "      <td>C372535854</td>\n",
       "      <td>C1871605747</td>\n",
       "      <td>0.0</td>\n",
       "      <td>0.0</td>\n",
       "      <td>7.512528e+07</td>\n",
       "      <td>1.384201e+08</td>\n",
       "    </tr>\n",
       "  </tbody>\n",
       "</table>\n",
       "</div>"
      ],
      "text/plain": [
       "         step      type       amount  isFraud     nameOrig     nameDest  \\\n",
       "3686583   276  TRANSFER  92445516.64        0  C1715283297   C439737079   \n",
       "4060598   300  TRANSFER  73823490.36        0  C2127282686   C753026640   \n",
       "4146397   303  TRANSFER  71172480.42        0  C2044643633    C84111522   \n",
       "3946920   286  TRANSFER  69886731.30        0  C1425667947   C167875008   \n",
       "3911956   284  TRANSFER  69337316.27        0  C1584456031  C1472140329   \n",
       "3937152   286  TRANSFER  67500761.29        0   C811810230  C1757599079   \n",
       "4105338   302  TRANSFER  66761272.21        0   C420748282  C1073241084   \n",
       "3892529   284  TRANSFER  64234448.19        0  C1139847449    C65111466   \n",
       "3991638   298  TRANSFER  63847992.58        0   C300140823   C514940761   \n",
       "4143801   303  TRANSFER  63294839.63        0   C372535854  C1871605747   \n",
       "\n",
       "         oldbalanceOrg  newbalanceOrig  oldbalanceDest  newbalanceDest  \n",
       "3686583            0.0             0.0    9.595980e+03    9.245511e+07  \n",
       "4060598            0.0             0.0    9.362401e+07    1.674475e+08  \n",
       "4146397            0.0             0.0    1.134615e+08    1.846340e+08  \n",
       "3946920            0.0             0.0    1.515387e+08    2.214254e+08  \n",
       "3911956            0.0             0.0    1.130072e+08    1.823446e+08  \n",
       "3937152            0.0             0.0    8.635615e+07    1.538569e+08  \n",
       "4105338            0.0             0.0    6.874206e+07    1.355033e+08  \n",
       "3892529            0.0             0.0    6.597691e+07    1.663021e+08  \n",
       "3991638            0.0             0.0    7.217149e+07    1.360195e+08  \n",
       "4143801            0.0             0.0    7.512528e+07    1.384201e+08  "
      ]
     },
     "metadata": {},
     "output_type": "display_data"
    }
   ],
   "source": [
    "# Top large transactions (top 10) with context\n",
    "print(\"\\nTop 10 transactions by amount:\")\n",
    "display(df.sort_values('amount', ascending=False).head(10)[['step','type','amount','isFraud','nameOrig','nameDest','oldbalanceOrg','newbalanceOrig','oldbalanceDest','newbalanceDest']])"
   ]
  },
  {
   "cell_type": "code",
   "execution_count": 63,
   "id": "4f82600e-4fae-4848-b737-f6e55117a28a",
   "metadata": {},
   "outputs": [
    {
     "name": "stdout",
     "output_type": "stream",
     "text": [
      "\n",
      "Top 10 senders (by transaction count):\n"
     ]
    },
    {
     "data": {
      "text/html": [
       "<div>\n",
       "<style scoped>\n",
       "    .dataframe tbody tr th:only-of-type {\n",
       "        vertical-align: middle;\n",
       "    }\n",
       "\n",
       "    .dataframe tbody tr th {\n",
       "        vertical-align: top;\n",
       "    }\n",
       "\n",
       "    .dataframe thead th {\n",
       "        text-align: right;\n",
       "    }\n",
       "</style>\n",
       "<table border=\"1\" class=\"dataframe\">\n",
       "  <thead>\n",
       "    <tr style=\"text-align: right;\">\n",
       "      <th></th>\n",
       "      <th>orig_txn_count</th>\n",
       "      <th>orig_total_amt</th>\n",
       "      <th>orig_mean_amt</th>\n",
       "      <th>orig_fraud_count</th>\n",
       "    </tr>\n",
       "    <tr>\n",
       "      <th>nameOrig</th>\n",
       "      <th></th>\n",
       "      <th></th>\n",
       "      <th></th>\n",
       "      <th></th>\n",
       "    </tr>\n",
       "  </thead>\n",
       "  <tbody>\n",
       "    <tr>\n",
       "      <th>C1065307291</th>\n",
       "      <td>3</td>\n",
       "      <td>113479.28</td>\n",
       "      <td>37826.426667</td>\n",
       "      <td>0</td>\n",
       "    </tr>\n",
       "    <tr>\n",
       "      <th>C1784010646</th>\n",
       "      <td>3</td>\n",
       "      <td>436700.25</td>\n",
       "      <td>145566.750000</td>\n",
       "      <td>0</td>\n",
       "    </tr>\n",
       "    <tr>\n",
       "      <th>C1902386530</th>\n",
       "      <td>3</td>\n",
       "      <td>763712.79</td>\n",
       "      <td>254570.930000</td>\n",
       "      <td>0</td>\n",
       "    </tr>\n",
       "    <tr>\n",
       "      <th>C1832548028</th>\n",
       "      <td>3</td>\n",
       "      <td>313665.83</td>\n",
       "      <td>104555.276667</td>\n",
       "      <td>0</td>\n",
       "    </tr>\n",
       "    <tr>\n",
       "      <th>C545315117</th>\n",
       "      <td>3</td>\n",
       "      <td>2485461.64</td>\n",
       "      <td>828487.213333</td>\n",
       "      <td>0</td>\n",
       "    </tr>\n",
       "    <tr>\n",
       "      <th>C1462946854</th>\n",
       "      <td>3</td>\n",
       "      <td>166791.43</td>\n",
       "      <td>55597.143333</td>\n",
       "      <td>0</td>\n",
       "    </tr>\n",
       "    <tr>\n",
       "      <th>C2051359467</th>\n",
       "      <td>3</td>\n",
       "      <td>89313.36</td>\n",
       "      <td>29771.120000</td>\n",
       "      <td>0</td>\n",
       "    </tr>\n",
       "    <tr>\n",
       "      <th>C363736674</th>\n",
       "      <td>3</td>\n",
       "      <td>68726.33</td>\n",
       "      <td>22908.776667</td>\n",
       "      <td>0</td>\n",
       "    </tr>\n",
       "    <tr>\n",
       "      <th>C1976208114</th>\n",
       "      <td>3</td>\n",
       "      <td>511130.35</td>\n",
       "      <td>170376.783333</td>\n",
       "      <td>0</td>\n",
       "    </tr>\n",
       "    <tr>\n",
       "      <th>C1530544995</th>\n",
       "      <td>3</td>\n",
       "      <td>490535.09</td>\n",
       "      <td>163511.696667</td>\n",
       "      <td>0</td>\n",
       "    </tr>\n",
       "  </tbody>\n",
       "</table>\n",
       "</div>"
      ],
      "text/plain": [
       "             orig_txn_count  orig_total_amt  orig_mean_amt  orig_fraud_count\n",
       "nameOrig                                                                    \n",
       "C1065307291               3       113479.28   37826.426667                 0\n",
       "C1784010646               3       436700.25  145566.750000                 0\n",
       "C1902386530               3       763712.79  254570.930000                 0\n",
       "C1832548028               3       313665.83  104555.276667                 0\n",
       "C545315117                3      2485461.64  828487.213333                 0\n",
       "C1462946854               3       166791.43   55597.143333                 0\n",
       "C2051359467               3        89313.36   29771.120000                 0\n",
       "C363736674                3        68726.33   22908.776667                 0\n",
       "C1976208114               3       511130.35  170376.783333                 0\n",
       "C1530544995               3       490535.09  163511.696667                 0"
      ]
     },
     "metadata": {},
     "output_type": "display_data"
    }
   ],
   "source": [
    "# Quick sender aggregation (top 10 senders by txn count)\n",
    "sender_agg = df.groupby('nameOrig').agg(\n",
    "    orig_txn_count=('amount','count'),\n",
    "    orig_total_amt=('amount','sum'),\n",
    "    orig_mean_amt=('amount','mean'),\n",
    "    orig_fraud_count=('isFraud','sum')\n",
    ").sort_values('orig_txn_count', ascending=False).head(10)\n",
    "print(\"\\nTop 10 senders (by transaction count):\")\n",
    "display(sender_agg)"
   ]
  },
  {
   "cell_type": "code",
   "execution_count": null,
   "id": "72a953da-1ecd-47b5-802b-de85456b6293",
   "metadata": {},
   "outputs": [],
   "source": [
    "# Keep memory in check: optionally drop 'log_amount' if you want to save memory later\n",
    "# df.drop(columns=['log_amount'], inplace=True)"
   ]
  },
  {
   "cell_type": "markdown",
   "id": "2b70b7b0-6d89-411a-a6be-c99874ad44b8",
   "metadata": {},
   "source": [
    "# Step 3: Feature Engineering\n",
    "\n",
    "We create domain-driven features to better capture fraud patterns:\n",
    "\n",
    "- `errorBalanceOrig` = oldbalanceOrg - amount - newbalanceOrig  \n",
    "- `errorBalanceDest` = oldbalanceDest + amount - newbalanceDest  \n",
    "- `amount_over_oldbalanceOrg` = ratio of transaction amount to sender's balance  \n",
    "- `amount_over_oldbalanceDest` = ratio of transaction amount to receiver's balance  \n",
    "- `hour` and `day` extracted from `step` (time index)\n",
    "\n",
    "**Filtered dataset shape:** 2,770,409 rows (focused on CASH_OUT and TRANSFER, where fraud occurs).  \n",
    "**Fraud Rate after filtering:** 0.2965% (higher than raw dataset).  \n",
    "\n",
    "These features capture suspicious behaviors such as draining accounts or depositing into dormant accounts.\n"
   ]
  },
  {
   "cell_type": "code",
   "execution_count": 65,
   "id": "49dcf14e-06cb-4a25-9b45-9bbb99d9789e",
   "metadata": {},
   "outputs": [
    {
     "name": "stdout",
     "output_type": "stream",
     "text": [
      "Filtered dataset shape: (2770409, 15)\n",
      "Fraud rate after filtering: 0.2965%\n",
      "\n",
      "New feature columns added:\n",
      "['amount_over_oldbalanceOrg', 'amount_over_oldbalanceDest', 'hour', 'day']\n",
      "\n",
      "Final columns: ['step', 'type', 'amount', 'oldbalanceOrg', 'newbalanceOrig', 'oldbalanceDest', 'newbalanceDest', 'isFraud', 'dest_is_merchant', 'log_amount', 'errorBalanceOrig', 'errorBalanceDest', 'amount_over_oldbalanceOrg', 'amount_over_oldbalanceDest', 'hour', 'day']\n",
      "\n",
      "Final dataset shape (X): (2770409, 15) Target: (2770409,)\n",
      "Fraud rate in modeling data: 0.2965%\n"
     ]
    }
   ],
   "source": [
    "# Cell 4 — Focus dataset & feature engineering\n",
    "\n",
    "# Keep only TRANSFER and CASH_OUT (fraud only exists here)\n",
    "df_model = df[df['type'].isin(['TRANSFER','CASH_OUT'])].copy()\n",
    "print(\"Filtered dataset shape:\", df_model.shape)\n",
    "print(\"Fraud rate after filtering: {:.4f}%\".format(df_model['isFraud'].mean()*100))\n",
    "\n",
    "# Drop columns that are IDs or not useful\n",
    "drop_cols = ['nameOrig','nameDest','isFlaggedFraud']\n",
    "df_model = df_model.drop(columns=drop_cols)\n",
    "\n",
    "# Encode 'type' as binary: TRANSFER=1, CASH_OUT=0\n",
    "df_model['type'] = (df_model['type']=='TRANSFER').astype(int)\n",
    "\n",
    "# Add ratio features\n",
    "df_model['amount_over_oldbalanceOrg'] = df_model['amount'] / (df_model['oldbalanceOrg']+1e-9)\n",
    "df_model['amount_over_oldbalanceDest'] = df_model['amount'] / (df_model['oldbalanceDest']+1e-9)\n",
    "\n",
    "# Add time features from step (step = hours)\n",
    "df_model['hour'] = df_model['step'] % 24\n",
    "df_model['day'] = df_model['step'] // 24\n",
    "\n",
    "# Quick check of new features\n",
    "print(\"\\nNew feature columns added:\")\n",
    "print([c for c in df_model.columns if c not in df.columns])\n",
    "print(\"\\nFinal columns:\", df_model.columns.tolist())\n",
    "\n",
    "# Target variable\n",
    "TARGET = 'isFraud'\n",
    "X = df_model.drop(columns=[TARGET])\n",
    "y = df_model[TARGET]\n",
    "\n",
    "print(\"\\nFinal dataset shape (X):\", X.shape, \"Target:\", y.shape)\n",
    "print(\"Fraud rate in modeling data: {:.4f}%\".format(y.mean()*100))\n"
   ]
  },
  {
   "cell_type": "markdown",
   "id": "c8d33fcd-fe5d-4d70-99a8-8b287fb5bf4a",
   "metadata": {},
   "source": [
    "# Step 4: Train-Validation Split\n",
    "\n",
    "We split the dataset into **train (80%)** and **validation (20%)** using stratification,  \n",
    "to ensure fraud ratio is consistent in both sets.\n",
    "\n",
    "- Train shape: 2,216,327 rows  \n",
    "- Validation shape: 554,082 rows  \n",
    "- Fraud ratio ≈ 0.296% in both sets  \n",
    "\n",
    "This prepares the dataset for fair model training and evaluation.\n"
   ]
  },
  {
   "cell_type": "code",
   "execution_count": 67,
   "id": "16951f53-4834-4095-9b0a-150c6d99a798",
   "metadata": {},
   "outputs": [
    {
     "name": "stdout",
     "output_type": "stream",
     "text": [
      "Train shape: (2216327, 15) Validation shape: (554082, 15)\n",
      "Fraud ratio in train: 0.2964%\n",
      "Fraud ratio in validation: 0.2965%\n"
     ]
    }
   ],
   "source": [
    "# Cell 5 — Train/Validation Split (stratified)\n",
    "\n",
    "from sklearn.model_selection import train_test_split\n",
    "\n",
    "TARGET = 'isFraud'\n",
    "\n",
    "X = df_model.drop(columns=[TARGET])\n",
    "y = df_model[TARGET]\n",
    "\n",
    "# Stratified split to preserve fraud ratio\n",
    "X_train, X_val, y_train, y_val = train_test_split(\n",
    "    X, y,\n",
    "    test_size=0.2,\n",
    "    stratify=y,\n",
    "    random_state=42\n",
    ")\n",
    "\n",
    "print(\"Train shape:\", X_train.shape, \"Validation shape:\", X_val.shape)\n",
    "print(\"Fraud ratio in train: {:.4f}%\".format(y_train.mean()*100))\n",
    "print(\"Fraud ratio in validation: {:.4f}%\".format(y_val.mean()*100))\n"
   ]
  },
  {
   "cell_type": "markdown",
   "id": "79245754-1d60-4eda-8adf-0d9311cb0a19",
   "metadata": {},
   "source": [
    "## Next Step → Baseline Model (Logistic Regression)\n",
    "\n",
    "Why Logistic Regression first?\n",
    "\n",
    "* It’s simple, fast, and interpretable.\n",
    "* Provides a **baseline AUC / PR-AUC** to compare with advanced models later.\n",
    "* Handles imbalance using `class_weight=\"balanced\"`.\n",
    "\n"
   ]
  },
  {
   "cell_type": "markdown",
   "id": "e7e4156d-e1da-4c0c-a880-f95cc2b75828",
   "metadata": {},
   "source": [
    "# Step 5: Baseline Model — Logistic Regression\n",
    "\n",
    "We train a Logistic Regression model with `class_weight=\"balanced\"` to handle class imbalance.  \n",
    "\n",
    "**Results:**\n",
    "- ROC-AUC: 0.9808  \n",
    "- PR-AUC: 0.5829  \n",
    "- Recall (Fraud): 0.8831  \n",
    "- Precision (Fraud): 0.0408  \n",
    "\n",
    "Insights: The model separates classes well (high ROC-AUC) but struggles with fraud detection precision due to class imbalance.\n"
   ]
  },
  {
   "cell_type": "code",
   "execution_count": 74,
   "id": "a27be508-6875-495d-ac6a-93e956e8188e",
   "metadata": {},
   "outputs": [
    {
     "name": "stdout",
     "output_type": "stream",
     "text": [
      "Baseline Logistic Regression ROC-AUC: 0.9808\n",
      "Baseline Logistic Regression PR-AUC: 0.5829\n",
      "\n",
      "Confusion Matrix:\n",
      "[[518327  34112]\n",
      " [   192   1451]]\n",
      "\n",
      "Classification Report:\n",
      "              precision    recall  f1-score   support\n",
      "\n",
      "           0     0.9996    0.9383    0.9680    552439\n",
      "           1     0.0408    0.8831    0.0780      1643\n",
      "\n",
      "    accuracy                         0.9381    554082\n",
      "   macro avg     0.5202    0.9107    0.5230    554082\n",
      "weighted avg     0.9968    0.9381    0.9653    554082\n",
      "\n"
     ]
    }
   ],
   "source": [
    "# Cell 6 — Baseline Logistic Regression\n",
    "\n",
    "from sklearn.linear_model import LogisticRegression\n",
    "from sklearn.preprocessing import StandardScaler\n",
    "from sklearn.pipeline import Pipeline\n",
    "from sklearn.metrics import roc_auc_score, average_precision_score, confusion_matrix, classification_report\n",
    "\n",
    "# Select only numeric features (logistic regression needs scaled data)\n",
    "num_cols = X_train.select_dtypes(include=['int','float']).columns.tolist()\n",
    "\n",
    "# Build pipeline: scaling + logistic regression\n",
    "log_reg = Pipeline(steps=[\n",
    "    ('scaler', StandardScaler()),\n",
    "    ('clf', LogisticRegression(\n",
    "        class_weight='balanced',\n",
    "        max_iter=500,\n",
    "        solver='lbfgs',\n",
    "        random_state=42\n",
    "    ))\n",
    "])\n",
    "\n",
    "# Fit model\n",
    "log_reg.fit(X_train[num_cols], y_train)\n",
    "\n",
    "# Predictions (probabilities)\n",
    "y_val_pred_proba = log_reg.predict_proba(X_val[num_cols])[:,1]\n",
    "\n",
    "# Metrics\n",
    "roc = roc_auc_score(y_val, y_val_pred_proba)\n",
    "pr_auc = average_precision_score(y_val, y_val_pred_proba)\n",
    "\n",
    "print(f\"Baseline Logistic Regression ROC-AUC: {roc:.4f}\")\n",
    "print(f\"Baseline Logistic Regression PR-AUC: {pr_auc:.4f}\")\n",
    "\n",
    "# Choose default threshold = 0.5 for now\n",
    "y_val_pred = (y_val_pred_proba >= 0.5).astype(int)\n",
    "\n",
    "print(\"\\nConfusion Matrix:\")\n",
    "print(confusion_matrix(y_val, y_val_pred))\n",
    "\n",
    "print(\"\\nClassification Report:\")\n",
    "print(classification_report(y_val, y_val_pred, digits=4))"
   ]
  },
  {
   "cell_type": "markdown",
   "id": "41381300-84fe-4bf8-aee4-a4ca86de0978",
   "metadata": {},
   "source": [
    "# Step 6: Threshold Optimization\n",
    "\n",
    "Instead of using the default 0.5 threshold, we optimize based on **F1-score**.  \n",
    "\n",
    "- Best threshold ≈ 1.0  \n",
    "- Precision: 87.1%  \n",
    "- Recall: 45.6%  \n",
    "- F1: 0.5990  \n",
    "\n",
    "Insight: Adjusting thresholds significantly improves fraud detection precision at the cost of recall, which is suitable for high-stakes fraud prevention.\n"
   ]
  },
  {
   "cell_type": "code",
   "execution_count": 76,
   "id": "b4f78a8a-7856-4fe9-a540-fe23bdcc6266",
   "metadata": {},
   "outputs": [
    {
     "name": "stdout",
     "output_type": "stream",
     "text": [
      "Best Threshold by F1: 1.0000\n",
      "Precision: 0.8711, Recall: 0.4565, F1: 0.5990\n"
     ]
    },
    {
     "data": {
      "image/png": "[encoded data removed]",
      "text/plain": [
       "<Figure size 700x500 with 1 Axes>"
      ]
     },
     "metadata": {},
     "output_type": "display_data"
    }
   ],
   "source": [
    "# Cell 7 — Precision-Recall vs Threshold\n",
    "\n",
    "\n",
    "precisions, recalls, thresholds = precision_recall_curve(y_val, y_val_pred_proba)\n",
    "\n",
    "# Compute F1 for each threshold\n",
    "f1s = 2 * (precisions * recalls) / (precisions + recalls + 1e-9)\n",
    "\n",
    "# Find best threshold by F1\n",
    "best_idx = np.argmax(f1s)\n",
    "best_thresh = thresholds[best_idx]\n",
    "print(f\"Best Threshold by F1: {best_thresh:.4f}\")\n",
    "print(f\"Precision: {precisions[best_idx]:.4f}, Recall: {recalls[best_idx]:.4f}, F1: {f1s[best_idx]:.4f}\")\n",
    "\n",
    "# Plot PR curve\n",
    "plt.figure(figsize=(7,5))\n",
    "plt.plot(recalls, precisions, label=\"Precision-Recall Curve\")\n",
    "plt.scatter(recalls[best_idx], precisions[best_idx], color='red', label=f\"Best F1 (t={best_thresh:.2f})\")\n",
    "plt.xlabel(\"Recall\")\n",
    "plt.ylabel(\"Precision\")\n",
    "plt.title(\"Precision-Recall Curve (Logistic Regression)\")\n",
    "plt.legend()\n",
    "plt.show()\n"
   ]
  },
  {
   "cell_type": "code",
   "execution_count": 78,
   "id": "e2b8888e-8a2d-4a5e-9897-18dee17b882b",
   "metadata": {},
   "outputs": [
    {
     "name": "stdout",
     "output_type": "stream",
     "text": [
      "Precision at top 0.1%: 0.9856\n",
      "Precision at top 0.5%: 0.3578\n",
      "Precision at top 1.0%: 0.2018\n",
      "Precision at top 2.0%: 0.1142\n"
     ]
    }
   ],
   "source": [
    "# Cell 8 — Precision@K (top risk transactions)\n",
    "\n",
    "def precision_at_k(y_true, y_scores, k=0.01):\n",
    "    \"\"\"Compute precision at top k fraction of data\"\"\"\n",
    "    n = int(len(y_scores) * k)\n",
    "    idx = np.argsort(y_scores)[::-1][:n]\n",
    "    return y_true.iloc[idx].mean()\n",
    "\n",
    "for k in [0.001, 0.005, 0.01, 0.02]:  # top 0.1%, 0.5%, 1%, 2%\n",
    "    prec_k = precision_at_k(y_val, y_val_pred_proba, k)\n",
    "    print(f\"Precision at top {k*100:.1f}%: {prec_k:.4f}\")\n"
   ]
  },
  {
   "cell_type": "markdown",
   "id": "4053d446-7b6d-42fb-8f0e-643e355fd1e5",
   "metadata": {},
   "source": [
    "# Step 7: Precision at Top K% (Baseline Model)\n",
    "\n",
    "We simulate a real-world fraud monitoring scenario by ranking transactions by fraud probability.\n",
    "\n",
    "- Precision@0.1%: 98.6%  \n",
    "- Precision@0.5%: 35.8%  \n",
    "- Precision@1.0%: 20.2%  \n",
    "- Precision@2.0%: 11.4%  \n",
    "\n",
    "This shows the model is effective when focusing on the very top risky transactions.\n"
   ]
  },
  {
   "cell_type": "code",
   "execution_count": 84,
   "id": "fd7f47ab-baf7-4d9d-b87f-7e243866410a",
   "metadata": {},
   "outputs": [
    {
     "name": "stdout",
     "output_type": "stream",
     "text": [
      "Scale_pos_weight: 336.34048706240486\n",
      "Training until validation scores don't improve for 50 rounds\n",
      "Early stopping, best iteration is:\n",
      "[2]\ttraining's auc: 0.998892\ttraining's average_precision: 0.996019\tvalid_1's auc: 0.996997\tvalid_1's average_precision: 0.995526\n",
      "\n",
      "LightGBM ROC-AUC: 0.9970\n",
      "LightGBM PR-AUC: 0.9955\n"
     ]
    }
   ],
   "source": [
    "# Cell 9 — LightGBM Fraud Detection (fixed for imbalance)\n",
    "\n",
    "import lightgbm as lgb\n",
    "from sklearn.metrics import roc_auc_score, average_precision_score\n",
    "\n",
    "# Prepare datasets\n",
    "train_data = lgb.Dataset(X_train, label=y_train)\n",
    "val_data = lgb.Dataset(X_val, label=y_val, reference=train_data)\n",
    "\n",
    "# Class imbalance ratio\n",
    "neg, pos = np.bincount(y_train)\n",
    "scale_pos_weight = neg / pos\n",
    "print(\"Scale_pos_weight:\", scale_pos_weight)\n",
    "\n",
    "# LightGBM parameters\n",
    "params = {\n",
    "    'objective': 'binary',\n",
    "    'metric': ['auc', 'average_precision'],\n",
    "    'boosting_type': 'gbdt',\n",
    "    'learning_rate': 0.05,\n",
    "    'num_leaves': 31,\n",
    "    'feature_fraction': 0.8,\n",
    "    'bagging_fraction': 0.8,\n",
    "    'bagging_freq': 5,\n",
    "    'scale_pos_weight': scale_pos_weight,  # only this, no is_unbalance\n",
    "    'seed': 42,\n",
    "    'verbose': -1\n",
    "}\n",
    "\n",
    "# Train with callbacks\n",
    "booster = lgb.train(\n",
    "    params,\n",
    "    train_data,\n",
    "    valid_sets=[train_data, val_data],\n",
    "    num_boost_round=1000,\n",
    "    callbacks=[\n",
    "        lgb.early_stopping(stopping_rounds=50),\n",
    "        lgb.log_evaluation(100)\n",
    "    ]\n",
    ")\n",
    "\n",
    "# Predictions\n",
    "y_val_pred_proba_lgb = booster.predict(X_val, num_iteration=booster.best_iteration)\n",
    "\n",
    "# Metrics\n",
    "roc_lgb = roc_auc_score(y_val, y_val_pred_proba_lgb)\n",
    "pr_auc_lgb = average_precision_score(y_val, y_val_pred_proba_lgb)\n",
    "\n",
    "print(f\"\\nLightGBM ROC-AUC: {roc_lgb:.4f}\")\n",
    "print(f\"LightGBM PR-AUC: {pr_auc_lgb:.4f}\")\n"
   ]
  },
  {
   "cell_type": "markdown",
   "id": "b09514fa-fc95-474e-b8b7-7965c321b588",
   "metadata": {},
   "source": [
    "# Step 8: Advanced Model — LightGBM\n",
    "\n",
    "We train a LightGBM model with `scale_pos_weight` to handle extreme imbalance.  \n",
    "\n",
    "**Results (Validation Set):**  \n",
    "- ROC-AUC: 0.9970  \n",
    "- PR-AUC: 0.9955  \n",
    "- Early stopping after 2 rounds (features are highly predictive).  \n",
    "\n",
    "This is a major improvement over Logistic Regression and demonstrates strong fraud detection capability.\n"
   ]
  },
  {
   "cell_type": "code",
   "execution_count": 86,
   "id": "9af900c9-9000-4333-812f-935b3394107c",
   "metadata": {},
   "outputs": [
    {
     "data": {
      "image/png": "[encoded data removed]",
      "text/plain": [
       "<Figure size 1000x600 with 1 Axes>"
      ]
     },
     "metadata": {},
     "output_type": "display_data"
    },
    {
     "name": "stdout",
     "output_type": "stream",
     "text": [
      "\n",
      "Top 10 Features by Importance:\n",
      "amount_over_oldbalanceOrg: 245835944.12\n",
      "newbalanceOrig: 76874780.00\n",
      "amount: 9785395.87\n",
      "step: 817143.76\n",
      "newbalanceDest: 560025.07\n",
      "errorBalanceOrig: 400296.55\n",
      "oldbalanceDest: 302162.42\n",
      "amount_over_oldbalanceDest: 161141.12\n",
      "hour: 58288.98\n",
      "errorBalanceDest: 11766.40\n"
     ]
    }
   ],
   "source": [
    "# Cell 10 — Feature Importance\n",
    "\n",
    "import matplotlib.pyplot as plt\n",
    "\n",
    "# Get feature importance\n",
    "importance = booster.feature_importance(importance_type='gain')\n",
    "feature_names = X_train.columns\n",
    "\n",
    "# Sort and plot\n",
    "feat_imp = sorted(zip(feature_names, importance), key=lambda x: x[1], reverse=True)\n",
    "\n",
    "plt.figure(figsize=(10,6))\n",
    "plt.barh([f[0] for f in feat_imp[:15]], [f[1] for f in feat_imp[:15]])\n",
    "plt.gca().invert_yaxis()\n",
    "plt.title(\"Top 15 Feature Importances (LightGBM)\")\n",
    "plt.show()\n",
    "\n",
    "# Print top 10 in text\n",
    "print(\"\\nTop 10 Features by Importance:\")\n",
    "for f, imp in feat_imp[:10]:\n",
    "    print(f\"{f}: {imp:.2f}\")"
   ]
  },
  {
   "cell_type": "markdown",
   "id": "1624887e-6670-4bc5-8c83-93e2b80052e0",
   "metadata": {},
   "source": [
    "# Step 9: Feature Importance Analysis\n",
    "\n",
    "Top 10 most important features (LightGBM):  \n",
    "1. amount_over_oldbalanceOrg  \n",
    "2. newbalanceOrig  \n",
    "3. amount  \n",
    "4. step (time)  \n",
    "5. newbalanceDest  \n",
    "6. errorBalanceOrig  \n",
    "7. oldbalanceDest  \n",
    "8. amount_over_oldbalanceDest  \n",
    "9. hour  \n",
    "10. errorBalanceDest  \n",
    "\n",
    "Interpretation: Fraud is strongly linked to transactions where accounts are drained, balances drop to zero, and funds move to empty/dormant accounts.\n"
   ]
  },
  {
   "cell_type": "code",
   "execution_count": 88,
   "id": "151a3cd1-d12a-429a-b127-72f0af1a66bc",
   "metadata": {},
   "outputs": [
    {
     "name": "stdout",
     "output_type": "stream",
     "text": [
      "Precision at top 0.1%: 0.9982\n",
      "Precision at top 0.5%: 0.5910\n",
      "Precision at top 1.0%: 0.2955\n",
      "Precision at top 2.0%: 0.1477\n"
     ]
    }
   ],
   "source": [
    "# Cell 11 — Precision at Top K%\n",
    "def precision_at_k(y_true, y_scores, k=0.01):\n",
    "    cutoff = int(len(y_scores) * k)\n",
    "    idx = np.argsort(y_scores)[::-1][:cutoff]\n",
    "    return y_true.iloc[idx].mean()\n",
    "\n",
    "for k in [0.001, 0.005, 0.01, 0.02]:\n",
    "    prec = precision_at_k(y_val, y_val_pred_proba_lgb, k)\n",
    "    print(f\"Precision at top {k*100:.1f}%: {prec:.4f}\")"
   ]
  },
  {
   "cell_type": "markdown",
   "id": "72fbaef9-1d57-4b80-bd8f-5a0cd40074ee",
   "metadata": {},
   "source": [
    "# Step 10: Precision at Top K% (LightGBM)\n",
    "\n",
    "Evaluating business usefulness:\n",
    "\n",
    "- Precision@0.1%: 99.8%  \n",
    "- Precision@0.5%: 59.1%  \n",
    "- Precision@1.0%: 29.6%  \n",
    "- Precision@2.0%: 14.8%  \n",
    "\n",
    "Conclusion: The LightGBM model is extremely precise in detecting fraud in the riskiest transactions, making it highly valuable for real-world deployment.\n"
   ]
  },
  {
   "cell_type": "markdown",
   "id": "66ba5a92-36ab-4cd5-8ce6-5240a9738019",
   "metadata": {},
   "source": [
    "# Conclusion: Fraud Detection Insights\n",
    "\n",
    "- Fraud is rare (0.13%) but highly predictable with the right features.  \n",
    "- Logistic Regression provided a strong baseline but struggled with precision.  \n",
    "- LightGBM achieved near-perfect fraud detection (ROC-AUC 0.997, PR-AUC 0.996).  \n",
    "- Key fraud patterns: account draining, zero balances, large suspicious transfers, dormant recipients, and timing anomalies.  \n",
    "- Business Recommendations:  \n",
    "  - Deploy ML-based fraud scoring in real-time.  \n",
    "  - Combine with rules (large transfers, drained balances).  \n",
    "  - Apply MFA for high-value transactions.  \n",
    "  - Monitor flagged cases using Precision@K to measure effectiveness.  \n",
    "\n",
    "This notebook demonstrates the end-to-end process of proactive fraud detection with actionable business insights.\n"
   ]
  },
  {
   "cell_type": "markdown",
   "id": "f4fc6e2a-d643-4778-ac8a-2b16303207d7",
   "metadata": {},
   "source": [
    "## 📖 Fraud Detection Story (for Notebook/Report)\n",
    "\n",
    "**Title Suggestion:**\n",
    "💡 *\"Proactive Fraud Detection in Financial Transactions using Machine Learning\"*\n",
    "\n",
    "**Story (Summary):**\n",
    "We analyzed **6.3 million financial transactions** with a fraud rate of just **0.13%**. After cleaning the data and engineering domain-driven features such as balance inconsistencies and transaction ratios, we built predictive models for fraud detection.\n",
    "\n",
    "A baseline Logistic Regression provided strong separation (ROC-AUC 0.98), but struggled with imbalanced data (PR-AUC 0.58). We then implemented a LightGBM model with imbalance-aware training. This model achieved **ROC-AUC 0.997 and PR-AUC 0.996**, demonstrating near-perfect fraud detection capability.\n",
    "\n",
    "Key fraud indicators included transactions that drained the sender’s balance (`amount_over_oldbalanceOrg ≈ 1`), left the sender with zero (`newbalanceOrig`), and routed funds to dormant accounts (`oldbalanceDest`, `newbalanceDest`). Fraudsters also showed patterns in transaction amounts and timing.\n",
    "\n",
    "From these insights, we recommended **real-time fraud scoring, velocity checks, and multi-factor authentication** for suspicious transfers. Evaluation should focus on fraud loss reduction and high precision in top-risk predictions (Precision\\@0.1% ≈ 99.8%).\n",
    "\n",
    "Thus, the combination of statistical rigor and domain logic yielded a robust, actionable fraud detection system.\n",
    "\n",
    "---"
   ]
  },
  {
   "cell_type": "markdown",
   "id": "30c018a4-b3c3-448b-8209-7bfa2dc72cb5",
   "metadata": {},
   "source": [
    "## ✅ Insights from Results\n",
    "\n",
    "### Q1. Data cleaning including missing values, outliers and multi-collinearity.\n",
    "\n",
    "* No missing values were found in the dataset.\n",
    "* Outliers (extremely large transactions) were retained, since fraud often happens at unusual amounts.\n",
    "* Derived features (`amount_over_oldbalanceOrg`, `errorBalanceOrig`, etc.) helped reduce multicollinearity by capturing core relationships instead of raw balances.\n",
    "\n",
    "### Q2. Describe your fraud detection model in elaboration.\n",
    "\n",
    "* Baseline: Logistic Regression with class weights → ROC-AUC 0.98, PR-AUC 0.58.\n",
    "* Final: LightGBM with imbalance handling (`scale_pos_weight`) → ROC-AUC 0.997, PR-AUC 0.996.\n",
    "* Validation metrics show near-perfect detection ability.\n",
    "\n",
    "### Q3. How did you select variables to be included in the model?\n",
    "\n",
    "* Initial features: transaction type, amount, balances.\n",
    "* Engineered features: ratios (`amount_over_oldbalanceOrg`), balance errors (`errorBalanceOrig`, `errorBalanceDest`), and time-based features (`hour`, `day`).\n",
    "* Selection driven by **domain logic** (fraud draining accounts) + **feature importance** from LightGBM.\n",
    "\n",
    "### Q4. Demonstrate the performance of the model by using best set of tools.\n",
    "\n",
    "* Logistic Regression: ROC-AUC 0.98, PR-AUC 0.58.\n",
    "* LightGBM: ROC-AUC 0.997, PR-AUC 0.996.\n",
    "* Precision\\@K: At top 0.1% of transactions, model precision ≈ **99.8%**, meaning almost every flagged transaction is fraudulent.\n",
    "\n",
    "\n",
    "### Q5. What are the key factors that predict fraudulent customer?\n",
    "\n",
    "Top predictive features (from LightGBM importance):\n",
    "\n",
    "1. **`amount_over_oldbalanceOrg`** → ratio of transaction amount to sender’s old balance.\n",
    "\n",
    "   * Fraudulent transactions often try to **empty the account**, so this ratio is close to **1**.\n",
    "2. **`newbalanceOrig`** → remaining balance after transaction.\n",
    "\n",
    "   * In fraud, this often drops to **zero**.\n",
    "3. **`amount`** → absolute transaction amount.\n",
    "\n",
    "   * Large suspicious transfers are strong fraud indicators.\n",
    "4. **`step`** (time index) → fraud tends to cluster at certain time steps.\n",
    "5. **`newbalanceDest` & `oldbalanceDest`** → behavior of recipient account (frauds often send to dormant or zero-balance accounts).\n",
    "6. **`errorBalanceOrig` & `errorBalanceDest`** → balance inconsistencies, strong anomaly signals.\n",
    "7. **`hour`** → fraud attempts may spike at unusual times (off-peak hours).\n",
    "\n",
    "---\n",
    "\n",
    "### Q6. Do these factors make sense? Why or why not?\n",
    "\n",
    "✅ Yes, they make business sense:\n",
    "\n",
    "* Fraudsters typically **drain accounts** → explains importance of `amount_over_oldbalanceOrg` and `newbalanceOrig`.\n",
    "* Fraud often involves **transfers to “empty shell” accounts** → explains `oldbalanceDest` and `newbalanceDest`.\n",
    "* **Transaction amount** is critical — very large amounts are rare in normal activity.\n",
    "* **Timing (`step`, `hour`)** → fraudsters may exploit weekends, nights, or specific windows.\n",
    "\n",
    "So the model is not just statistically strong — it aligns with **real-world fraud patterns**.\n",
    "\n",
    "---\n",
    "\n",
    "### Q7. What kind of prevention should be adopted while company updates its infrastructure?\n",
    "\n",
    "1. **Real-time transaction monitoring** → flag transactions with high fraud probability.\n",
    "2. **Threshold-based alerts** → for example, when `amount_over_oldbalanceOrg ≈ 1`.\n",
    "3. **Velocity checks** → monitor how many transactions an account makes in a short period.\n",
    "4. **Recipient account monitoring** → especially if receiving unusually large transfers after being mostly dormant.\n",
    "5. **Adaptive rules** → combine ML model with rules (like blocking transfers > 200,000).\n",
    "6. **Multi-factor authentication (MFA)** for large or unusual transfers.\n",
    "\n",
    "---\n",
    "\n",
    "### Q8. Assuming these actions have been implemented, how would you determine if they work?\n",
    "\n",
    "* Track **Precision\\@K** over time:\n",
    "\n",
    "  * If Precision\\@0.1% remains \\~99%, the model is catching fraud early.\n",
    "* Monitor **false positive rate**:\n",
    "\n",
    "  * Ensure legitimate customers are not frequently blocked.\n",
    "* Run **A/B testing**:\n",
    "\n",
    "  * Compare accounts under new monitoring vs control group.\n",
    "* Business KPI improvements:\n",
    "\n",
    "  * Reduction in fraud losses (monetary).\n",
    "  * Increase in recovery of blocked fraudulent attempts.\n",
    "\n",
    "---\n",
    "\n",
    "## 🎯 Fraud Detection Story (Summary for Notebook/Report)\n",
    "\n",
    "* Dataset: 6.3M transactions, fraud rate 0.13%.\n",
    "* **Data cleaning & feature engineering** → new features like ratios, error balances, and time-based splits.\n",
    "* **Baseline Logistic Regression**: ROC-AUC 0.98, PR-AUC 0.58 → good but misses fraud at threshold 0.5.\n",
    "* **LightGBM Model**: ROC-AUC 0.997, PR-AUC 0.996 → near-perfect detection.\n",
    "* **Business insights**: Fraud strongly linked to transactions that **drain accounts** and send to **empty recipients**.\n",
    "* **Action plan**: Deploy real-time monitoring, MFA for large transfers, velocity/rule checks.\n",
    "* **Evaluation**: Use Precision\\@K, A/B testing, and fraud loss reduction to measure success.\n",
    "\n",
    "---\n",
    "\n"
   ]
  },
  {
   "cell_type": "code",
   "execution_count": null,
   "id": "a740b68d-81df-4cd8-8580-0a9bc63c89db",
   "metadata": {},
   "outputs": [],
   "source": []
  },
  {
   "cell_type": "code",
   "execution_count": null,
   "id": "20a8bb2c-1bd1-4916-8c98-f0d2cec43641",
   "metadata": {},
   "outputs": [],
   "source": []
  },
  {
   "cell_type": "code",
   "execution_count": null,
   "id": "ccbc6525-e9d9-42ce-aaac-089743175979",
   "metadata": {},
   "outputs": [],
   "source": []
  },
  {
   "cell_type": "code",
   "execution_count": null,
   "id": "0a972ee5-2c70-41f1-a5d9-b95138f9da33",
   "metadata": {},
   "outputs": [],
   "source": []
  }
 ],
 "metadata": {
  "kernelspec": {
   "display_name": "Python [conda env:base] *",
   "language": "python",
   "name": "conda-base-py"
  },
  "language_info": {
   "codemirror_mode": {
    "name": "ipython",
    "version": 3
   },
   "file_extension": ".py",
   "mimetype": "text/x-python",
   "name": "python",
   "nbconvert_exporter": "python",
   "pygments_lexer": "ipython3",
   "version": "3.12.7"
  }
 },
 "nbformat": 4,
 "nbformat_minor": 5
}
